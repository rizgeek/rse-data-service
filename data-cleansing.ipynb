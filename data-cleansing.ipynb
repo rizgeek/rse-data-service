{
 "cells": [
  {
   "cell_type": "code",
   "execution_count": null,
   "id": "a91c38be",
   "metadata": {},
   "outputs": [],
   "source": [
    "import pandas as pd\n",
    "import numpy as np\n",
    "import re"
   ]
  },
  {
   "cell_type": "code",
   "execution_count": null,
   "id": "d7a97768",
   "metadata": {},
   "outputs": [],
   "source": [
    "OUTPUT_FILE_CLEAN = '../dataset/master_data_cleaned.csv'"
   ]
  },
  {
   "cell_type": "code",
   "execution_count": null,
   "id": "e8fc3439",
   "metadata": {},
   "outputs": [],
   "source": [
    "df_1 = pd.read_csv(\"../dataset/amazon_products.csv\")\n",
    "df_1.head()"
   ]
  },
  {
   "cell_type": "code",
   "execution_count": null,
   "id": "fd345e3f",
   "metadata": {},
   "outputs": [],
   "source": [
    "df_2 = pd.read_csv(\"../dataset/amz_uk_processed_data.csv\")\n",
    "df_2.head()"
   ]
  },
  {
   "cell_type": "code",
   "execution_count": null,
   "id": "05d38827",
   "metadata": {},
   "outputs": [],
   "source": [
    "df_1.columns"
   ]
  },
  {
   "cell_type": "code",
   "execution_count": null,
   "id": "c54215e0",
   "metadata": {},
   "outputs": [],
   "source": [
    "df_2.columns"
   ]
  },
  {
   "cell_type": "code",
   "execution_count": null,
   "id": "8670ef0f",
   "metadata": {},
   "outputs": [],
   "source": [
    "def clean_reviews(review_str):\n",
    "    if pd.isna(review_str):\n",
    "        return 0\n",
    "    cleaned = re.sub(r'[^\\d]', '', str(review_str)) \n",
    "    return int(cleaned) if cleaned else 0"
   ]
  },
  {
   "cell_type": "code",
   "execution_count": null,
   "id": "8e030f22",
   "metadata": {},
   "outputs": [],
   "source": [
    "def create_and_clean_master_dataset():\n",
    "    try:\n",
    "        df1 = df_1\n",
    "        df2 = df_2\n",
    "    except FileNotFoundError as e:\n",
    "        print(f\"ERROR: File not found: {e}\")\n",
    "        return None\n",
    "\n",
    "    print(f\"df1: {len(df1)} row | df2: {len(df2)} row\")\n",
    "\n",
    "    df_master = pd.concat([df1, df2], ignore_index=True)\n",
    "    print(f\"Master Dataset has been join. Total datasest: {len(df_master)}\")\n",
    "\n",
    "    df_master.drop_duplicates(subset=['asin'], keep='first', inplace=True)\n",
    "    print(f\"Total baris unik setelah penghapusan duplikat: {len(df_master)}\")\n",
    "\n",
    "    text_cols = ['title', 'categoryName', 'category_id']\n",
    "    for col in text_cols:\n",
    "        if col in df_master.columns:\n",
    "            df_master[col] = df_master[col].astype(str).str.lower().str.strip().replace('nan', np.nan)\n",
    "\n",
    "    df_master['reviews'] = df_master['reviews'].apply(clean_reviews)\n",
    "    df_master['stars'] = pd.to_numeric(df_master['stars'], errors='coerce').fillna(0.0).clip(0.0, 5.0)\n",
    "    df_master['price'] = pd.to_numeric(df_master['price'], errors='coerce').fillna(0.0)\n",
    "    df_master['listPrice'] = pd.to_numeric(df_master['listPrice'], errors='coerce').fillna(0.0)\n",
    "\n",
    "    df_master['boughtInLastMonth'] = pd.to_numeric(df_master['boughtInLastMonth'], errors='coerce').fillna(0).astype(int)\n",
    "    df_master.dropna(subset=['asin', 'title'], inplace=True)\n",
    "    df_master = df_master[df_master['price'] > 0]\n",
    "    df_master.to_csv(OUTPUT_FILE_CLEAN, index=False)\n",
    "    print(f\"Master Data yang sudah dibersihkan disimpan di: {OUTPUT_FILE_CLEAN}\")"
   ]
  },
  {
   "cell_type": "code",
   "execution_count": null,
   "id": "baa45bd3",
   "metadata": {},
   "outputs": [],
   "source": [
    "create_and_clean_master_dataset()"
   ]
  },
  {
   "cell_type": "code",
   "execution_count": null,
   "id": "096d7595",
   "metadata": {},
   "outputs": [],
   "source": [
    "data = pd.read_csv(OUTPUT_FILE_CLEAN)\n",
    "data.head()"
   ]
  },
  {
   "cell_type": "code",
   "execution_count": null,
   "id": "bfa57a43",
   "metadata": {},
   "outputs": [],
   "source": [
    "data = data.drop('category_id', axis=1)\n",
    "data = data.drop('categoryName', axis=1)\n",
    "data.head()"
   ]
  },
  {
   "cell_type": "code",
   "execution_count": null,
   "id": "bb9804f0",
   "metadata": {},
   "outputs": [],
   "source": [
    "data.to_csv(OUTPUT_FILE_CLEAN, index=False)"
   ]
  }
 ],
 "metadata": {
  "kernelspec": {
   "display_name": "env",
   "language": "python",
   "name": "python3"
  },
  "language_info": {
   "codemirror_mode": {
    "name": "ipython",
    "version": 3
   },
   "file_extension": ".py",
   "mimetype": "text/x-python",
   "name": "python",
   "nbconvert_exporter": "python",
   "pygments_lexer": "ipython3",
   "version": "3.13.5"
  }
 },
 "nbformat": 4,
 "nbformat_minor": 5
}
