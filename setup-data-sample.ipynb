{
 "cells": [
  {
   "cell_type": "code",
   "execution_count": 1,
   "id": "dc9a81bc",
   "metadata": {},
   "outputs": [],
   "source": [
    "import polars as pl"
   ]
  },
  {
   "cell_type": "code",
   "execution_count": 2,
   "id": "2064def4",
   "metadata": {},
   "outputs": [],
   "source": [
    "data = pl.read_json(\"merged_augmented_products_snakecase.json\")"
   ]
  },
  {
   "cell_type": "code",
   "execution_count": 6,
   "id": "711179d4",
   "metadata": {},
   "outputs": [],
   "source": [
    "save = data[:100]\n",
    "save.write_ndjson(\"sample_augmented_product_nd.ndjson\")"
   ]
  },
  {
   "cell_type": "code",
   "execution_count": 7,
   "id": "0ce77130",
   "metadata": {},
   "outputs": [],
   "source": [
    "save = data[:100]\n",
    "save.write_ndjson(\"sample_augmented_product_nd.ndjson\")"
   ]
  },
  {
   "cell_type": "code",
   "execution_count": 8,
   "id": "d1e0a757",
   "metadata": {},
   "outputs": [],
   "source": [
    "save = data\n",
    "save.write_ndjson(\"fulldata_augmented_product_nd.ndjson\")"
   ]
  }
 ],
 "metadata": {
  "kernelspec": {
   "display_name": "base",
   "language": "python",
   "name": "python3"
  },
  "language_info": {
   "codemirror_mode": {
    "name": "ipython",
    "version": 3
   },
   "file_extension": ".py",
   "mimetype": "text/x-python",
   "name": "python",
   "nbconvert_exporter": "python",
   "pygments_lexer": "ipython3",
   "version": "3.13.5"
  }
 },
 "nbformat": 4,
 "nbformat_minor": 5
}
