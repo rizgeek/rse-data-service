{
 "cells": [
  {
   "cell_type": "code",
   "execution_count": 2,
   "id": "dc9a81bc",
   "metadata": {},
   "outputs": [],
   "source": [
    "import polars as pl"
   ]
  },
  {
   "cell_type": "code",
   "execution_count": 3,
   "id": "2064def4",
   "metadata": {},
   "outputs": [],
   "source": [
    "data = pl.read_json(\"merged_augmented_products_snakecase.json\")"
   ]
  },
  {
   "cell_type": "code",
   "execution_count": 9,
   "id": "711179d4",
   "metadata": {},
   "outputs": [],
   "source": [
    "save = data[:100]\n",
    "save.write_json(\"sample_augmented_product.json\")"
   ]
  }
 ],
 "metadata": {
  "kernelspec": {
   "display_name": "base",
   "language": "python",
   "name": "python3"
  },
  "language_info": {
   "codemirror_mode": {
    "name": "ipython",
    "version": 3
   },
   "file_extension": ".py",
   "mimetype": "text/x-python",
   "name": "python",
   "nbconvert_exporter": "python",
   "pygments_lexer": "ipython3",
   "version": "3.13.5"
  }
 },
 "nbformat": 4,
 "nbformat_minor": 5
}
